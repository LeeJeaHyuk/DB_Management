{
 "cells": [
  {
   "cell_type": "code",
   "execution_count": null,
   "id": "initial_id",
   "metadata": {
    "collapsed": true
   },
   "outputs": [],
   "source": [
    "root_path = 'Data'\n",
    "\n",
    "# root_path 하위의 모든 파일 및 폴더들을 순회하면서 데이터프레임 생성\n",
    "# df열의 각각의 열은 다음을 의미한다.\n",
    "# FileName : 폴더의 가장 마지막에 존재하는 파일명 (예시 : example_image_0.png)\n",
    "# "
   ]
  }
 ],
 "metadata": {
  "kernelspec": {
   "display_name": "Python 3",
   "language": "python",
   "name": "python3"
  },
  "language_info": {
   "codemirror_mode": {
    "name": "ipython",
    "version": 2
   },
   "file_extension": ".py",
   "mimetype": "text/x-python",
   "name": "python",
   "nbconvert_exporter": "python",
   "pygments_lexer": "ipython2",
   "version": "2.7.6"
  }
 },
 "nbformat": 4,
 "nbformat_minor": 5
}
